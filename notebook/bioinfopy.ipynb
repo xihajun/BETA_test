{
  "nbformat": 4,
  "nbformat_minor": 0,
  "metadata": {
    "colab": {
      "name": "bioinfopy.ipynb",
      "provenance": [],
      "collapsed_sections": [],
      "authorship_tag": "ABX9TyM3tqHjOPmxm44P0LcSxfg6",
      "include_colab_link": true
    },
    "kernelspec": {
      "name": "python3",
      "display_name": "Python 3"
    },
    "language_info": {
      "name": "python"
    }
  },
  "cells": [
    {
      "cell_type": "markdown",
      "metadata": {
        "id": "view-in-github",
        "colab_type": "text"
      },
      "source": [
        "<a href=\"https://colab.research.google.com/github/xihajun/BETA_test/blob/main/notebook/bioinfopy.ipynb\" target=\"_parent\"><img src=\"https://colab.research.google.com/assets/colab-badge.svg\" alt=\"Open In Colab\"/></a>"
      ]
    },
    {
      "cell_type": "code",
      "execution_count": null,
      "metadata": {
        "id": "LxNrZ1ZCqfbj"
      },
      "outputs": [],
      "source": [
        "def narrowPeaks2bed(filename):\n",
        "    '''\n",
        "    narrowPeaks2bed transfers .narrowPeak files to bed format.\n",
        "\n",
        "    :param filename: narrowPeak filename\n",
        "    :return: bed formart dataframe\n",
        "\n",
        "    --- bed format ---\n",
        "    chrom start end name  score\n",
        "    chr1  521336  521779\t3\t0.986\n",
        "    chr1\t839881  840447  19\t0.986\n",
        "    chr1\t968212\t968748\t48\t1\n",
        "    '''\n",
        "\n",
        "    narrowdf = pd.read_csv(filename,engine='python',sep=None,header=None)\n",
        "    outputfilename = \"\".join(filename.split('.')[0:-1])+'.bed'\n",
        "    beddf = narrowdf.loc[:,:4]\n",
        "    beddf.columns = ['chrom','start','end','name','score']\n",
        "    beddf.to_csv(outputfilename,sep='\\t',header=False,index=False)\n",
        "\n",
        "    return beddf"
      ]
    },
    {
      "cell_type": "code",
      "source": [
        ""
      ],
      "metadata": {
        "id": "0_IHe6KouIXc"
      },
      "execution_count": null,
      "outputs": []
    },
    {
      "cell_type": "code",
      "source": [
        ""
      ],
      "metadata": {
        "id": "ixewPyZMvjRt"
      },
      "execution_count": null,
      "outputs": []
    },
    {
      "cell_type": "code",
      "source": [
        ""
      ],
      "metadata": {
        "id": "PvyonkHvvjHN"
      },
      "execution_count": null,
      "outputs": []
    }
  ]
}